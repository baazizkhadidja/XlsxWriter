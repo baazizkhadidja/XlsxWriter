{
 "cells": [
  {
   "cell_type": "code",
   "execution_count": 6,
   "id": "7eaca658",
   "metadata": {},
   "outputs": [
    {
     "name": "stdout",
     "output_type": "stream",
     "text": [
      "{'data': [{'x': 10, 'y': 12},\n",
      "          {'x': 12, 'y': 15},\n",
      "          {'x': 21, 'y': 23},\n",
      "          {'x': 9, 'y': 8}]}\n"
     ]
    }
   ],
   "source": [
    "import sys\n",
    "import pprint\n",
    "import xlsxwriter\n",
    "import json\n",
    "\n",
    "\n",
    "\n",
    "\n",
    "class FileManagement:\n",
    "    def __init__(self):\n",
    "        self.json_file_name = \"/Users/khadidjabaaziz/PYTHON_REVISION/input.json\"\n",
    "        self.excel_file_name = \"output.xlsx\"\n",
    "        self.array_x = []\n",
    "        self.array_y = []\n",
    "        self.array_sum = []\n",
    "        \n",
    "    def read_text_file(self):\n",
    "        try:\n",
    "            with open(self.json_file_name) as data_file:\n",
    "                data = json.load(data_file)\n",
    "                pprint.pprint(data)\n",
    "                for each_axis in data[\"data\"]:\n",
    "                    x = int(each_axis[\"x\"])\n",
    "                    y = int(each_axis[\"y\"])\n",
    "                    self.array_x.append(x)\n",
    "                    self.array_y.append(y)\n",
    "                    self.array_sum.append(x+y)\n",
    "                    \n",
    "                    \n",
    "                \n",
    "        except:\n",
    "            print(\"Unexpected error : \", sys.exc_info()[0])\n",
    "            raise\n",
    "            \n",
    "    def save_to_xlsx(self):\n",
    "        workbook = xlsxwriter.Workbook(self.excel_file_name)\n",
    "        worksheet = workbook.add_worksheet()\n",
    "        for index, value in enumerate(self.array_x):\n",
    "            worksheet.write(index, 0, self.array_x[index]) #column 0\n",
    "            worksheet.write(index, 1, self.array_y[index]) #column 1\n",
    "            worksheet.write(index, 2, self.array_sum[index]) #column sum\n",
    "        workbook.close()\n",
    "            \n",
    "            \n",
    "if __name__ == '__main__':\n",
    "    file_management = FileManagement()\n",
    "    file_management.read_text_file()\n",
    "    file_management.save_to_xlsx()\n"
   ]
  },
  {
   "cell_type": "code",
   "execution_count": null,
   "id": "ef7535cc",
   "metadata": {},
   "outputs": [],
   "source": []
  }
 ],
 "metadata": {
  "kernelspec": {
   "display_name": "Python 3 (ipykernel)",
   "language": "python",
   "name": "python3"
  },
  "language_info": {
   "codemirror_mode": {
    "name": "ipython",
    "version": 3
   },
   "file_extension": ".py",
   "mimetype": "text/x-python",
   "name": "python",
   "nbconvert_exporter": "python",
   "pygments_lexer": "ipython3",
   "version": "3.9.7"
  }
 },
 "nbformat": 4,
 "nbformat_minor": 5
}
