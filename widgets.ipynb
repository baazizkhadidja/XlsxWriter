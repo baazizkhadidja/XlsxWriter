{
 "cells": [
  {
   "cell_type": "code",
   "execution_count": 1,
   "id": "215058bd",
   "metadata": {},
   "outputs": [
    {
     "name": "stdout",
     "output_type": "stream",
     "text": [
      "[{'calculus': 'sum',\n",
      "  'conditions': {},\n",
      "  'id': 'excel%Ma source des affaires_Affaires%Velo Type 2',\n",
      "  'name': 'Velo Type 2',\n",
      "  'uuid': 'excel%Ma source des affaires_Affaires%Velo Type 2',\n",
      "  'valueId': 'bb03c79a-725b-4a0b-a979-a778b7bf2394'}]\n",
      "[{'calculus': 'sum',\n",
      "  'conditions': {},\n",
      "  'id': 'excel%Ma source des affaires_Affaires%Velo Type 1',\n",
      "  'name': 'Velo Type 1',\n",
      "  'uuid': 'excel%Ma source des affaires_Affaires%Velo Type 1',\n",
      "  'valueId': 'e9981240-a6bf-4038-a7b3-dcfb6915f752'}]\n",
      "[{'calculus': 'sum',\n",
      "  'conditions': {},\n",
      "  'id': 'excel%Ma source des affaires_Affaires%Nom du commercial',\n",
      "  'name': 'Nom du commercial',\n",
      "  'uuid': 'excel%Ma source des affaires_Affaires%Nom du commercial',\n",
      "  'valueId': '38fbedf5-6123-44d6-995f-e78b59738cf4'}]\n",
      "[{'calculus': 'sum',\n",
      "  'conditions': {},\n",
      "  'id': 'excel%Ma source des affaires_Affaires%Nom du commercial',\n",
      "  'name': 'Nom du commercial',\n",
      "  'uuid': 'excel%Ma source des affaires_Affaires%Nom du commercial',\n",
      "  'valueId': 'ef2f6b03-0765-47f8-a31b-9facfd5014a6'}]\n"
     ]
    }
   ],
   "source": [
    "import sys\n",
    "import pprint\n",
    "import xlsxwriter\n",
    "import json\n",
    "from dataclasses import dataclass\n",
    "from typing import ClassVar\n",
    "\n",
    "\n",
    "@dataclass\n",
    "class FileManagement:\n",
    "    json_file_name: str = \"/Users/khadidjabaaziz/Desktop/dashoard/dash_01.json\"\n",
    "    excel_file_name: str = \"output_dash_01.xlsx\"\n",
    "    page: ClassVar[list] = [] #dictionnaire \n",
    "    widgets: ClassVar[list] = []\n",
    "    widgetRequest : ClassVar[list] = []\n",
    "        \n",
    "    def read_text_file(self):\n",
    "        try:\n",
    "            with open(self.json_file_name) as data_file:\n",
    "                data = json.load(data_file)\n",
    "                page = data[\"page\"]\n",
    "                title = page[\"title\"]\n",
    "                widgets = data[\"widgets\"]\n",
    "                widgetRequest = data[\"widgetRequest\"]\n",
    "                #pprint.pprint(title)\n",
    "                for dic in widgets:\n",
    "                    w_id = dic[\"_id\"]\n",
    "                    w_etag = dic[\"_etag\"]\n",
    "                    canBeCompared = dic[\"canBeCompared\"]\n",
    "                    category = dic[\"category\"]\n",
    "                    chartType = dic[\"chartType\"]\n",
    "                    conditions = dic[\"conditions\"]\n",
    "                    data = dic[\"data\"]\n",
    "                    groupBy = dic[\"groupBy\"]\n",
    "                    pageId = dic[\"pageId\"]\n",
    "                    request = dic[\"request\"]\n",
    "                    title = dic[\"title\"]\n",
    "                    widgetCategory = dic[\"widgetCategory\"]\n",
    "                    widgetProps = dic[\"widgetProps\"]\n",
    "                    widgetType = dic[\"widgetType\"]\n",
    "                    \n",
    "                    pprint.pprint(groupBy)\n",
    "                    \n",
    "                \n",
    "        except:\n",
    "            print(\"Unexpected error : \", sys.exc_info()[0])\n",
    "            raise\n",
    "    \n",
    "            \n",
    "if __name__ == '__main__':\n",
    "    file_management = FileManagement()\n",
    "    file_management.read_text_file()\n",
    "    #file_management.save_to_xlsx()\n",
    " \n"
   ]
  },
  {
   "cell_type": "code",
   "execution_count": null,
   "id": "8d4093f1",
   "metadata": {},
   "outputs": [],
   "source": []
  }
 ],
 "metadata": {
  "kernelspec": {
   "display_name": "Python 3 (ipykernel)",
   "language": "python",
   "name": "python3"
  },
  "language_info": {
   "codemirror_mode": {
    "name": "ipython",
    "version": 3
   },
   "file_extension": ".py",
   "mimetype": "text/x-python",
   "name": "python",
   "nbconvert_exporter": "python",
   "pygments_lexer": "ipython3",
   "version": "3.9.7"
  }
 },
 "nbformat": 4,
 "nbformat_minor": 5
}
