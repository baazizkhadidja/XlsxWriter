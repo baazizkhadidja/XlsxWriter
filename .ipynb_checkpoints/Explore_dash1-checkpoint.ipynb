{
 "cells": [
  {
   "cell_type": "code",
   "execution_count": 34,
   "id": "1dcb7340",
   "metadata": {},
   "outputs": [
    {
     "name": "stdout",
     "output_type": "stream",
     "text": [
      "Unexpected error :  <class 'NameError'>\n"
     ]
    },
    {
     "ename": "NameError",
     "evalue": "name 'w_etag' is not defined",
     "output_type": "error",
     "traceback": [
      "\u001b[0;31m---------------------------------------------------------------------------\u001b[0m",
      "\u001b[0;31mNameError\u001b[0m                                 Traceback (most recent call last)",
      "\u001b[0;32m/var/folders/vy/q6j1zgm91l93k5nmt8k6z7f00000gn/T/ipykernel_1086/3841620377.py\u001b[0m in \u001b[0;36m<module>\u001b[0;34m\u001b[0m\n\u001b[1;32m     68\u001b[0m \u001b[0;32mif\u001b[0m \u001b[0m__name__\u001b[0m \u001b[0;34m==\u001b[0m \u001b[0;34m'__main__'\u001b[0m\u001b[0;34m:\u001b[0m\u001b[0;34m\u001b[0m\u001b[0;34m\u001b[0m\u001b[0m\n\u001b[1;32m     69\u001b[0m     \u001b[0mfile_management\u001b[0m \u001b[0;34m=\u001b[0m \u001b[0mFileManagement\u001b[0m\u001b[0;34m(\u001b[0m\u001b[0;34m)\u001b[0m\u001b[0;34m\u001b[0m\u001b[0;34m\u001b[0m\u001b[0m\n\u001b[0;32m---> 70\u001b[0;31m     \u001b[0mfile_management\u001b[0m\u001b[0;34m.\u001b[0m\u001b[0mread_text_file\u001b[0m\u001b[0;34m(\u001b[0m\u001b[0;34m)\u001b[0m\u001b[0;34m\u001b[0m\u001b[0;34m\u001b[0m\u001b[0m\n\u001b[0m\u001b[1;32m     71\u001b[0m     \u001b[0;31m#file_management.save_to_xlsx()\u001b[0m\u001b[0;34m\u001b[0m\u001b[0;34m\u001b[0m\u001b[0m\n\u001b[1;32m     72\u001b[0m \u001b[0;34m\u001b[0m\u001b[0m\n",
      "\u001b[0;32m/var/folders/vy/q6j1zgm91l93k5nmt8k6z7f00000gn/T/ipykernel_1086/3841620377.py\u001b[0m in \u001b[0;36mread_text_file\u001b[0;34m(self)\u001b[0m\n\u001b[1;32m     26\u001b[0m                 \u001b[0;32mfor\u001b[0m \u001b[0mdic\u001b[0m \u001b[0;32min\u001b[0m \u001b[0mwidgets\u001b[0m\u001b[0;34m:\u001b[0m\u001b[0;34m\u001b[0m\u001b[0;34m\u001b[0m\u001b[0m\n\u001b[1;32m     27\u001b[0m                     \u001b[0mw_id\u001b[0m \u001b[0;34m=\u001b[0m \u001b[0mdic\u001b[0m\u001b[0;34m[\u001b[0m\u001b[0;34m\"_id\"\u001b[0m\u001b[0;34m]\u001b[0m\u001b[0;34m\u001b[0m\u001b[0;34m\u001b[0m\u001b[0m\n\u001b[0;32m---> 28\u001b[0;31m                     \u001b[0mw_etag\u001b[0m\u001b[0;34m\u001b[0m\u001b[0;34m\u001b[0m\u001b[0m\n\u001b[0m\u001b[1;32m     29\u001b[0m                     \u001b[0mpprint\u001b[0m\u001b[0;34m.\u001b[0m\u001b[0mpprint\u001b[0m\u001b[0;34m(\u001b[0m\u001b[0mw_id\u001b[0m\u001b[0;34m)\u001b[0m\u001b[0;34m\u001b[0m\u001b[0;34m\u001b[0m\u001b[0m\n\u001b[1;32m     30\u001b[0m \u001b[0;34m\u001b[0m\u001b[0m\n",
      "\u001b[0;31mNameError\u001b[0m: name 'w_etag' is not defined"
     ]
    }
   ],
   "source": [
    "import sys\n",
    "import pprint\n",
    "import xlsxwriter\n",
    "import json\n",
    "from dataclasses import dataclass\n",
    "from typing import ClassVar\n",
    "\n",
    "\n",
    "@dataclass\n",
    "class FileManagement:\n",
    "    json_file_name: str = \"/Users/khadidjabaaziz/Desktop/dashoard/dash_01.json\"\n",
    "    excel_file_name: str = \"output_dash_01.xlsx\"\n",
    "    page: ClassVar[list] = [] #dictionnaire \n",
    "    widgets: ClassVar[list] = []\n",
    "    widgetRequest : ClassVar[list] = []\n",
    "        \n",
    "    def read_text_file(self):\n",
    "        try:\n",
    "            with open(self.json_file_name) as data_file:\n",
    "                data = json.load(data_file)\n",
    "                page = data[\"page\"]\n",
    "                title = page[\"title\"]\n",
    "                widgets = data[\"widgets\"]\n",
    "                widgetRequest = data[\"widgetRequest\"]\n",
    "                #pprint.pprint(title)\n",
    "                for dic in widgets:\n",
    "                    w_id = dic[\"_id\"]\n",
    "                    w_etag = dic[\"_etag\"]\n",
    "                    canBeCompared = dic[\"canBeCompared\"]\n",
    "                    category = dic[\"category\"]\n",
    "                    chartType = dic[\"chartType\"]\n",
    "                    conditions = dic[\"conditions\"]\n",
    "                    data = dic[\"data\"]\n",
    "                    groupBy = dic[\"groupBy\"]\n",
    "                    pageId = dic[\"pageId\"]\n",
    "                    request = dic[\"request\"]\n",
    "                    title = dic[\"title\"]\n",
    "                    widgetCategory = dic[\"widgetCategory\"]\n",
    "                    widgetProps = dic[\"widgetProps\"]\n",
    "                    widgetType = dic[\"widgetType\"]\n",
    "                    \n",
    "                    pprint.pprint(w_id)\n",
    "                \n",
    "                \n",
    "                #for cle, valeur in data.items():\n",
    "                 #   page = dic[\"programm_id\"]\n",
    "                   # program_name = dic[\"program_name\"]\n",
    "                    #self.programm_id.append(programm_id)\n",
    "                    #self.program_name.append(program_name)\n",
    "                    #for app in dic[\"liste d'appartement\"]:\n",
    "                     #   app_id = app[\"app_id\"]\n",
    "                      #£  self.app_id.append(app_id) \n",
    "                      \n",
    "                        \n",
    "                    \n",
    "                    \n",
    "                \n",
    "        except:\n",
    "            print(\"Unexpected error : \", sys.exc_info()[0])\n",
    "            raise\n",
    "            ''' \n",
    "    def save_to_xlsx(self):\n",
    "        workbook = xlsxwriter.Workbook(self.excel_file_name)\n",
    "        worksheet = workbook.add_worksheet()\n",
    "        chart = workbook.add_chart({\"type\":\"line\"})\n",
    "        chart1 = workbook.add_chart({\"type\":\"line\"})\n",
    "        chart.add_series({\"values\": \"Sheet1!$E$1:$E$200\"})\n",
    "        worksheet.insert_chart(\"G1\", chart)\n",
    "        chart1.add_series({\"values\": \"Sheet1!$D$1:$D$200\"})\n",
    "        worksheet.insert_chart(\"G17\", chart1)\n",
    "        for index, value in enumerate(self.programm_id):\n",
    "            worksheet.write(index, 0, self.programm_id[index]) #column 0\n",
    "            worksheet.write(index, 1, self.program_name[index]) #column 1\n",
    "            for index, value in enumerate(self.app_id):\n",
    "                worksheet.write(index, 2, self.app_id[index])\n",
    "                worksheet.write(index, 3, self.surface[index])\n",
    "                worksheet.write(index, 4, self.prix[index])\n",
    "        workbook.close()\n",
    "        '''\n",
    "            \n",
    "if __name__ == '__main__':\n",
    "    file_management = FileManagement()\n",
    "    file_management.read_text_file()\n",
    "    #file_management.save_to_xlsx()\n",
    " \n"
   ]
  },
  {
   "cell_type": "code",
   "execution_count": 27,
   "id": "9b8e2793",
   "metadata": {},
   "outputs": [
    {
     "name": "stdout",
     "output_type": "stream",
     "text": [
      "n\n",
      "b\n",
      "a\n"
     ]
    }
   ],
   "source": [
    " data = {'nom': {'a':'jojo', 'b':'doody', 'c': 'aba'},\n",
    "         'biens': [{'vec':'voiture'},{'appart':'studio'}],\n",
    "         'adress':[{'id':1,'france':'paris'},{'id':2,'USA':'floride'} ]\n",
    "        }\n",
    "    \n",
    "    \n",
    "    \n",
    "for k in data:\n",
    "    liste_bien = k[0]\n",
    "    print(liste_bien)"
   ]
  },
  {
   "cell_type": "code",
   "execution_count": null,
   "id": "943bf645",
   "metadata": {},
   "outputs": [],
   "source": []
  }
 ],
 "metadata": {
  "kernelspec": {
   "display_name": "Python 3 (ipykernel)",
   "language": "python",
   "name": "python3"
  },
  "language_info": {
   "codemirror_mode": {
    "name": "ipython",
    "version": 3
   },
   "file_extension": ".py",
   "mimetype": "text/x-python",
   "name": "python",
   "nbconvert_exporter": "python",
   "pygments_lexer": "ipython3",
   "version": "3.9.7"
  }
 },
 "nbformat": 4,
 "nbformat_minor": 5
}
